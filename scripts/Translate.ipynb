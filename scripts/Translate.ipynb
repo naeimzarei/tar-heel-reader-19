{
 "cells": [
  {
   "cell_type": "markdown",
   "metadata": {},
   "source": [
    "# Translate Messages for THR 17\n",
    "\n",
    "Read the messages from src/Messages.ts and make sure they each have a translation into the requested target language.\n",
    "\n",
    "I give preference first to the original contents, then to the given `po` file assuming a human did the work to create it, and finally to\n",
    "Google Translate.\n",
    "\n",
    "The idea is to create a new project on Transifex to get humans to help but to use the old THR translations and Google until then."
   ]
  },
  {
   "cell_type": "code",
   "execution_count": 17,
   "metadata": {},
   "outputs": [],
   "source": [
    "import Args # my args module\n",
    "import polib\n",
    "import re\n",
    "import os.path as osp\n",
    "import requests\n",
    "import json\n",
    "from apiclient.discovery import build"
   ]
  },
  {
   "cell_type": "code",
   "execution_count": 34,
   "metadata": {},
   "outputs": [
    {
     "name": "stdout",
     "output_type": "stream",
     "text": [
      "args: src=str messages=str key=str lang=str po=str\n"
     ]
    },
    {
     "ename": "ValueError",
     "evalue": "missing required arguments {'messages', 'lang'}",
     "output_type": "error",
     "traceback": [
      "\u001b[0;31m--------------------------------------------------------------\u001b[0m",
      "\u001b[0;31mValueError\u001b[0m                   Traceback (most recent call last)",
      "\u001b[0;32m<ipython-input-34-dd39a63a916a>\u001b[0m in \u001b[0;36m<module>\u001b[0;34m()\u001b[0m\n\u001b[1;32m      5\u001b[0m     \u001b[0mmessages\u001b[0m\u001b[0;34m=\u001b[0m\u001b[0mstr\u001b[0m\u001b[0;34m,\u001b[0m               \u001b[0;31m# the json file to read/write with the translations\u001b[0m\u001b[0;34m\u001b[0m\u001b[0m\n\u001b[1;32m      6\u001b[0m     \u001b[0mkey\u001b[0m\u001b[0;34m=\u001b[0m\u001b[0mstr\u001b[0m\u001b[0;34m,\u001b[0m                    \u001b[0;31m# Google API key\u001b[0m\u001b[0;34m\u001b[0m\u001b[0m\n\u001b[0;32m----> 7\u001b[0;31m     \u001b[0m_config\u001b[0m\u001b[0;34m=\u001b[0m\u001b[0;34m'translatekey.json'\u001b[0m\u001b[0;34m\u001b[0m\u001b[0m\n\u001b[0m\u001b[1;32m      8\u001b[0m )\n\u001b[1;32m      9\u001b[0m \u001b[0margs\u001b[0m\u001b[0;34m\u001b[0m\u001b[0m\n",
      "\u001b[0;32m/home/gb/python/extensions/Args.py\u001b[0m in \u001b[0;36mParse\u001b[0;34m(**kwargs)\u001b[0m\n\u001b[1;32m    189\u001b[0m         \u001b[0momitted\u001b[0m \u001b[0;34m=\u001b[0m \u001b[0mrequired\u001b[0m \u001b[0;34m-\u001b[0m \u001b[0msupplied\u001b[0m\u001b[0;34m\u001b[0m\u001b[0m\n\u001b[1;32m    190\u001b[0m         \u001b[0;32mif\u001b[0m \u001b[0momitted\u001b[0m\u001b[0;34m:\u001b[0m\u001b[0;34m\u001b[0m\u001b[0m\n\u001b[0;32m--> 191\u001b[0;31m             \u001b[0;32mraise\u001b[0m \u001b[0mValueError\u001b[0m\u001b[0;34m(\u001b[0m\u001b[0;34m'missing required argument{} {}'\u001b[0m\u001b[0;34m.\u001b[0m\u001b[0mformat\u001b[0m\u001b[0;34m(\u001b[0m\u001b[0;34m's'\u001b[0m\u001b[0;34m[\u001b[0m\u001b[0mlen\u001b[0m\u001b[0;34m(\u001b[0m\u001b[0momitted\u001b[0m\u001b[0;34m)\u001b[0m\u001b[0;34m==\u001b[0m\u001b[0;36m1\u001b[0m\u001b[0;34m:\u001b[0m\u001b[0;34m]\u001b[0m\u001b[0;34m,\u001b[0m \u001b[0momitted\u001b[0m\u001b[0;34m)\u001b[0m\u001b[0;34m)\u001b[0m\u001b[0;34m\u001b[0m\u001b[0m\n\u001b[0m\u001b[1;32m    192\u001b[0m     \u001b[0;32mexcept\u001b[0m \u001b[0mValueError\u001b[0m\u001b[0;34m:\u001b[0m\u001b[0;34m\u001b[0m\u001b[0m\n\u001b[1;32m    193\u001b[0m         \u001b[0;31m# print a usage message\u001b[0m\u001b[0;34m\u001b[0m\u001b[0;34m\u001b[0m\u001b[0m\n",
      "\u001b[0;31mValueError\u001b[0m: missing required arguments {'messages', 'lang'}"
     ]
    }
   ],
   "source": [
    "args = Args.Parse(\n",
    "    po='',                      # existing po file if any\n",
    "    src='src/Messages.ts',   # where to find the needed strings\n",
    "    lang=str,                   # 2-letter iso language code\n",
    "    messages=str,               # the json file to read/write with the translations\n",
    "    key=str,                    # Google API key\n",
    "    _config='./scripts/translatekey.json'\n",
    ")\n",
    "args"
   ]
  },
  {
   "cell_type": "code",
   "execution_count": 11,
   "metadata": {},
   "outputs": [],
   "source": [
    "# read the existing po file if any\n",
    "po = {}\n",
    "if args.po:\n",
    "    pof = polib.pofile(args.po)\n",
    "    for entry in pof:\n",
    "        po[entry.msgid] = entry.msgstr"
   ]
  },
  {
   "cell_type": "code",
   "execution_count": 13,
   "metadata": {},
   "outputs": [],
   "source": [
    "# extract strings from my Messages.ts file\n",
    "msgpat = re.compile(r\"\\s+(\\w+):\\s*'(.*)',\")\n",
    "enMessages = []\n",
    "for line in open(args.src, 'r'):\n",
    "    m = msgpat.match(line)\n",
    "    if m:\n",
    "        enMessages.append(m.groups())"
   ]
  },
  {
   "cell_type": "code",
   "execution_count": 26,
   "metadata": {},
   "outputs": [
    {
     "data": {
      "text/plain": [
       "{'AllTopics': 'Alle Themen',\n",
       " 'Alph': 'Alphabet',\n",
       " 'AlternatePictureAndText': 'Alternatives Bild und Text',\n",
       " 'Anim': 'Tiere und Natur',\n",
       " 'AnyRating': 'alle Bewertungen',\n",
       " 'ArtM': 'Kunst und Musik',\n",
       " 'Audience': 'Leser',\n",
       " 'Biog': 'Biografien',\n",
       " 'ButtonSize': 'Knopfgröße',\n",
       " 'Close': 'schließen',\n",
       " 'EnterTextToSearch': 'Suchbegriff eingeben',\n",
       " 'Fair': 'Märchen',\n",
       " 'Fict': 'Fiktion',\n",
       " 'FontSize': 'Schriftgröße',\n",
       " 'Food': 'Lebensmittel',\n",
       " 'Heal': 'Gesundheit',\n",
       " 'Hist': 'Geschichte',\n",
       " 'Holi': 'Urlaub',\n",
       " 'IncludeUnreviewed': 'noch nicht überprüfte Bücher',\n",
       " 'Language': 'Sprache',\n",
       " 'Math': 'Mathematik und Naturwissenschaften',\n",
       " 'Nurs': 'Kinderreime',\n",
       " 'Peop': 'Menschen und Orte',\n",
       " 'Poet': 'Dichtung',\n",
       " 'RatedC': 'mit \"V\" bewertet / Vorsicht',\n",
       " 'RatedE': 'mit \"A\" bewertet / Alle',\n",
       " 'ReadingControls': 'Lesekontrollen',\n",
       " 'Recr': 'Erholung und Freizeit',\n",
       " 'ReviewStatus': 'Überprüfungsstatus',\n",
       " 'ReviewedOnly': 'nur überprüfte Bücher anzeigen',\n",
       " 'Search': 'suchen',\n",
       " 'SearchFor': 'Suche nach',\n",
       " 'Spor': 'Sport',\n",
       " 'Topics': 'Themen',\n",
       " 'Voice': 'Stimme',\n",
       " 'ar': 'Arabisch',\n",
       " 'back': 'zurück',\n",
       " 'ca': 'Katalanisch',\n",
       " 'choose': 'Wähle ein Buch',\n",
       " 'chr': '',\n",
       " 'da': 'Dänisch',\n",
       " 'de': 'Deutsch',\n",
       " 'el': 'Griechisch',\n",
       " 'en': 'Englisch',\n",
       " 'es': 'Spanisch',\n",
       " 'eu': 'Baskisch',\n",
       " 'fi': 'Finnisch',\n",
       " 'fil': 'Philippinisch',\n",
       " 'find': 'Bücher finden',\n",
       " 'fr': 'Französisch',\n",
       " 'gl': 'Galizisch',\n",
       " 'he': 'Hebräisch',\n",
       " 'home': 'Startseite',\n",
       " 'id': 'Indonesisch',\n",
       " 'is': 'Isländisch',\n",
       " 'it': 'Italienisch',\n",
       " 'ja': 'Japanisch',\n",
       " 'la': 'Latein',\n",
       " 'large': 'Groß',\n",
       " 'medium': 'Mittel',\n",
       " 'next': 'weiter',\n",
       " 'nl': 'Holländisch',\n",
       " 'no': 'Norwegisch',\n",
       " 'normal': 'Normal',\n",
       " 'off': 'keine',\n",
       " 'pl': 'Polnisch',\n",
       " 'pt': 'Portugiesisch',\n",
       " 'sa': 'Sanskrit',\n",
       " 'settings': 'Einstellungen',\n",
       " 'silent': 'Ton aus',\n",
       " 'sv': 'Schwedisch',\n",
       " 'tr': 'Türkisch',\n",
       " 'zh': 'Chinesisch'}"
      ]
     },
     "execution_count": 26,
     "metadata": {},
     "output_type": "execute_result"
    }
   ],
   "source": [
    "# read the existing translations\n",
    "old = {}\n",
    "if osp.exists(args.messages):\n",
    "    old = json.load(open(args.messages, 'r'))"
   ]
  },
  {
   "cell_type": "code",
   "execution_count": 21,
   "metadata": {
    "collapsed": true
   },
   "outputs": [],
   "source": [
    "API_KEY=args.key\n",
    "def g_translate(message, lang):\n",
    "    service = build('translate', 'v2', developerKey=API_KEY)\n",
    "    request = service.translations().list(q=message, target=lang)\n",
    "    response = request.execute()\n",
    "    return response['translations'][0]['translatedText']"
   ]
  },
  {
   "cell_type": "code",
   "execution_count": 23,
   "metadata": {},
   "outputs": [
    {
     "name": "stdout",
     "output_type": "stream",
     "text": [
      "home Startseite\n",
      "find Bücher finden\n",
      "choose Wähle ein Buch\n",
      "ButtonSize Knopfgröße\n",
      "normal Normal\n",
      "medium Mittel\n",
      "large Groß\n",
      "ReadingControls Lesekontrollen\n",
      "FontSize Schriftgröße\n",
      "AlternatePictureAndText Alternatives Bild und Text\n",
      "Voice Stimme\n"
     ]
    }
   ],
   "source": [
    "# Translate the ones we can't find elsewhere\n",
    "new = {}\n",
    "for key, message in enMessages:\n",
    "    if key in old:\n",
    "        new[key] = old[key]\n",
    "    elif message in po:\n",
    "        new[key] = po[message]\n",
    "    else:\n",
    "        new[key] = g_translate(message, args.lang)\n",
    "        print(key, new[key])"
   ]
  },
  {
   "cell_type": "code",
   "execution_count": 25,
   "metadata": {},
   "outputs": [],
   "source": [
    "json.dump(obj=new, fp=open(args.messages, 'w'), indent=2, sort_keys=True)"
   ]
  },
  {
   "cell_type": "code",
   "execution_count": null,
   "metadata": {
    "collapsed": true
   },
   "outputs": [],
   "source": []
  }
 ],
 "metadata": {
  "kernelspec": {
   "display_name": "Python 3",
   "language": "python",
   "name": "python3"
  },
  "language_info": {
   "codemirror_mode": {
    "name": "ipython",
    "version": 3
   },
   "file_extension": ".py",
   "mimetype": "text/x-python",
   "name": "python",
   "nbconvert_exporter": "python",
   "pygments_lexer": "ipython3",
   "version": "3.5.2"
  }
 },
 "nbformat": 4,
 "nbformat_minor": 2
}
